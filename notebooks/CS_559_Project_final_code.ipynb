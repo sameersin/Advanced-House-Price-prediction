{
 "cells": [
  {
   "cell_type": "code",
   "execution_count": 1,
   "id": "8226b446",
   "metadata": {},
   "outputs": [],
   "source": [
    "import numpy as np\n",
    "import pandas as pd\n",
    "import seaborn as sns\n",
    "import seaborn as sns\n",
    "import matplotlib.pyplot as plt\n"
   ]
  },
  {
   "cell_type": "code",
   "execution_count": 2,
   "id": "1fe02722",
   "metadata": {},
   "outputs": [
    {
     "data": {
      "text/html": [
       "<div>\n",
       "<style scoped>\n",
       "    .dataframe tbody tr th:only-of-type {\n",
       "        vertical-align: middle;\n",
       "    }\n",
       "\n",
       "    .dataframe tbody tr th {\n",
       "        vertical-align: top;\n",
       "    }\n",
       "\n",
       "    .dataframe thead th {\n",
       "        text-align: right;\n",
       "    }\n",
       "</style>\n",
       "<table border=\"1\" class=\"dataframe\">\n",
       "  <thead>\n",
       "    <tr style=\"text-align: right;\">\n",
       "      <th></th>\n",
       "      <th>unnamed:_0</th>\n",
       "      <th>id</th>\n",
       "      <th>mssubclass</th>\n",
       "      <th>mszoning</th>\n",
       "      <th>lotfrontage</th>\n",
       "      <th>lotarea</th>\n",
       "      <th>street</th>\n",
       "      <th>alley</th>\n",
       "      <th>lotshape</th>\n",
       "      <th>landcontour</th>\n",
       "      <th>...</th>\n",
       "      <th>poolarea</th>\n",
       "      <th>poolqc</th>\n",
       "      <th>fence</th>\n",
       "      <th>miscfeature</th>\n",
       "      <th>miscval</th>\n",
       "      <th>mosold</th>\n",
       "      <th>yrsold</th>\n",
       "      <th>saletype</th>\n",
       "      <th>salecondition</th>\n",
       "      <th>saleprice</th>\n",
       "    </tr>\n",
       "  </thead>\n",
       "  <tbody>\n",
       "    <tr>\n",
       "      <th>0</th>\n",
       "      <td>64</td>\n",
       "      <td>65</td>\n",
       "      <td>60</td>\n",
       "      <td>RL</td>\n",
       "      <td>NaN</td>\n",
       "      <td>9375</td>\n",
       "      <td>Pave</td>\n",
       "      <td>NaN</td>\n",
       "      <td>Reg</td>\n",
       "      <td>Lvl</td>\n",
       "      <td>...</td>\n",
       "      <td>0</td>\n",
       "      <td>NaN</td>\n",
       "      <td>GdPrv</td>\n",
       "      <td>NaN</td>\n",
       "      <td>0</td>\n",
       "      <td>2</td>\n",
       "      <td>2009</td>\n",
       "      <td>WD</td>\n",
       "      <td>Normal</td>\n",
       "      <td>219500</td>\n",
       "    </tr>\n",
       "    <tr>\n",
       "      <th>1</th>\n",
       "      <td>651</td>\n",
       "      <td>652</td>\n",
       "      <td>70</td>\n",
       "      <td>RL</td>\n",
       "      <td>60.0</td>\n",
       "      <td>9084</td>\n",
       "      <td>Pave</td>\n",
       "      <td>NaN</td>\n",
       "      <td>Reg</td>\n",
       "      <td>Lvl</td>\n",
       "      <td>...</td>\n",
       "      <td>0</td>\n",
       "      <td>NaN</td>\n",
       "      <td>MnPrv</td>\n",
       "      <td>NaN</td>\n",
       "      <td>0</td>\n",
       "      <td>10</td>\n",
       "      <td>2009</td>\n",
       "      <td>WD</td>\n",
       "      <td>Normal</td>\n",
       "      <td>108000</td>\n",
       "    </tr>\n",
       "    <tr>\n",
       "      <th>2</th>\n",
       "      <td>260</td>\n",
       "      <td>261</td>\n",
       "      <td>80</td>\n",
       "      <td>RL</td>\n",
       "      <td>120.0</td>\n",
       "      <td>19296</td>\n",
       "      <td>Pave</td>\n",
       "      <td>NaN</td>\n",
       "      <td>Reg</td>\n",
       "      <td>Lvl</td>\n",
       "      <td>...</td>\n",
       "      <td>0</td>\n",
       "      <td>NaN</td>\n",
       "      <td>GdWo</td>\n",
       "      <td>NaN</td>\n",
       "      <td>0</td>\n",
       "      <td>5</td>\n",
       "      <td>2009</td>\n",
       "      <td>WD</td>\n",
       "      <td>Normal</td>\n",
       "      <td>176000</td>\n",
       "    </tr>\n",
       "    <tr>\n",
       "      <th>3</th>\n",
       "      <td>1089</td>\n",
       "      <td>1090</td>\n",
       "      <td>120</td>\n",
       "      <td>FV</td>\n",
       "      <td>37.0</td>\n",
       "      <td>3316</td>\n",
       "      <td>Pave</td>\n",
       "      <td>Pave</td>\n",
       "      <td>IR1</td>\n",
       "      <td>Lvl</td>\n",
       "      <td>...</td>\n",
       "      <td>0</td>\n",
       "      <td>NaN</td>\n",
       "      <td>NaN</td>\n",
       "      <td>NaN</td>\n",
       "      <td>0</td>\n",
       "      <td>4</td>\n",
       "      <td>2006</td>\n",
       "      <td>WD</td>\n",
       "      <td>Normal</td>\n",
       "      <td>197000</td>\n",
       "    </tr>\n",
       "    <tr>\n",
       "      <th>4</th>\n",
       "      <td>1112</td>\n",
       "      <td>1113</td>\n",
       "      <td>20</td>\n",
       "      <td>RL</td>\n",
       "      <td>73.0</td>\n",
       "      <td>7100</td>\n",
       "      <td>Pave</td>\n",
       "      <td>NaN</td>\n",
       "      <td>IR1</td>\n",
       "      <td>Lvl</td>\n",
       "      <td>...</td>\n",
       "      <td>0</td>\n",
       "      <td>NaN</td>\n",
       "      <td>NaN</td>\n",
       "      <td>NaN</td>\n",
       "      <td>0</td>\n",
       "      <td>7</td>\n",
       "      <td>2006</td>\n",
       "      <td>WD</td>\n",
       "      <td>Normal</td>\n",
       "      <td>129900</td>\n",
       "    </tr>\n",
       "  </tbody>\n",
       "</table>\n",
       "<p>5 rows × 82 columns</p>\n",
       "</div>"
      ],
      "text/plain": [
       "   unnamed:_0    id  mssubclass mszoning  lotfrontage  lotarea street alley  \\\n",
       "0          64    65          60       RL          NaN     9375   Pave   NaN   \n",
       "1         651   652          70       RL         60.0     9084   Pave   NaN   \n",
       "2         260   261          80       RL        120.0    19296   Pave   NaN   \n",
       "3        1089  1090         120       FV         37.0     3316   Pave  Pave   \n",
       "4        1112  1113          20       RL         73.0     7100   Pave   NaN   \n",
       "\n",
       "  lotshape landcontour  ... poolarea poolqc  fence miscfeature miscval mosold  \\\n",
       "0      Reg         Lvl  ...        0    NaN  GdPrv         NaN       0      2   \n",
       "1      Reg         Lvl  ...        0    NaN  MnPrv         NaN       0     10   \n",
       "2      Reg         Lvl  ...        0    NaN   GdWo         NaN       0      5   \n",
       "3      IR1         Lvl  ...        0    NaN    NaN         NaN       0      4   \n",
       "4      IR1         Lvl  ...        0    NaN    NaN         NaN       0      7   \n",
       "\n",
       "  yrsold saletype  salecondition  saleprice  \n",
       "0   2009       WD         Normal     219500  \n",
       "1   2009       WD         Normal     108000  \n",
       "2   2009       WD         Normal     176000  \n",
       "3   2006       WD         Normal     197000  \n",
       "4   2006       WD         Normal     129900  \n",
       "\n",
       "[5 rows x 82 columns]"
      ]
     },
     "execution_count": 2,
     "metadata": {},
     "output_type": "execute_result"
    }
   ],
   "source": [
    "data  = pd.read_csv('train.csv')\n",
    "# changing column names for ease\n",
    "col_names = [ col.strip().lower().replace(' ', '_').replace('-', '_') for col in data.columns ]\n",
    "data.columns = col_names\n",
    "columns = list(data.columns)\n",
    "columns\n",
    "data.head()"
   ]
  },
  {
   "cell_type": "code",
   "execution_count": 3,
   "id": "b66cd4c6",
   "metadata": {},
   "outputs": [
    {
     "name": "stdout",
     "output_type": "stream",
     "text": [
      "82\n"
     ]
    },
    {
     "data": {
      "text/plain": [
       "Index(['unnamed:_0', 'id', 'mssubclass', 'mszoning', 'lotfrontage', 'lotarea',\n",
       "       'street', 'alley', 'lotshape', 'landcontour', 'utilities', 'lotconfig',\n",
       "       'landslope', 'neighborhood', 'condition1', 'condition2', 'bldgtype',\n",
       "       'housestyle', 'overallqual', 'overallcond', 'yearbuilt', 'yearremodadd',\n",
       "       'roofstyle', 'roofmatl', 'exterior1st', 'exterior2nd', 'masvnrtype',\n",
       "       'masvnrarea', 'exterqual', 'extercond', 'foundation', 'bsmtqual',\n",
       "       'bsmtcond', 'bsmtexposure', 'bsmtfintype1', 'bsmtfinsf1',\n",
       "       'bsmtfintype2', 'bsmtfinsf2', 'bsmtunfsf', 'totalbsmtsf', 'heating',\n",
       "       'heatingqc', 'centralair', 'electrical', '1stflrsf', '2ndflrsf',\n",
       "       'lowqualfinsf', 'grlivarea', 'bsmtfullbath', 'bsmthalfbath', 'fullbath',\n",
       "       'halfbath', 'bedroomabvgr', 'kitchenabvgr', 'kitchenqual',\n",
       "       'totrmsabvgrd', 'functional', 'fireplaces', 'fireplacequ', 'garagetype',\n",
       "       'garageyrblt', 'garagefinish', 'garagecars', 'garagearea', 'garagequal',\n",
       "       'garagecond', 'paveddrive', 'wooddecksf', 'openporchsf',\n",
       "       'enclosedporch', '3ssnporch', 'screenporch', 'poolarea', 'poolqc',\n",
       "       'fence', 'miscfeature', 'miscval', 'mosold', 'yrsold', 'saletype',\n",
       "       'salecondition', 'saleprice'],\n",
       "      dtype='object')"
      ]
     },
     "execution_count": 3,
     "metadata": {},
     "output_type": "execute_result"
    }
   ],
   "source": [
    "print(len(data.columns))\n",
    "data.columns"
   ]
  },
  {
   "cell_type": "code",
   "execution_count": 175,
   "id": "77542b67",
   "metadata": {},
   "outputs": [
    {
     "data": {
      "text/plain": [
       "LotFrontage     17.612524\n",
       "Alley           94.129159\n",
       "MasVnrType      60.078278\n",
       "MasVnrArea       0.684932\n",
       "BsmtQual         2.837573\n",
       "BsmtCond         2.837573\n",
       "BsmtExposure     2.935421\n",
       "BsmtFinType1     2.837573\n",
       "BsmtFinType2     2.935421\n",
       "FireplaceQu     46.966732\n",
       "GarageType       5.283757\n",
       "GarageYrBlt      5.283757\n",
       "GarageFinish     5.283757\n",
       "GarageQual       5.283757\n",
       "GarageCond       5.283757\n",
       "PoolQC          99.510763\n",
       "Fence           80.626223\n",
       "MiscFeature     96.868885\n",
       "dtype: float64"
      ]
     },
     "execution_count": 175,
     "metadata": {},
     "output_type": "execute_result"
    }
   ],
   "source": [
    "df = pd.read_csv('train.csv')\n",
    "nulls = df.isnull().sum()*100/len(df)\n",
    "nulls[nulls>0.1]"
   ]
  },
  {
   "cell_type": "code",
   "execution_count": 4,
   "id": "7ed0f8c7",
   "metadata": {},
   "outputs": [
    {
     "data": {
      "text/plain": [
       "alley          94.129159\n",
       "poolqc         99.510763\n",
       "fence          80.626223\n",
       "miscfeature    96.868885\n",
       "dtype: float64"
      ]
     },
     "execution_count": 4,
     "metadata": {},
     "output_type": "execute_result"
    }
   ],
   "source": [
    "nulls = (data.isnull().sum()/len(data))*100\n",
    "nullcols = nulls[nulls>80]\n",
    "nullcols"
   ]
  },
  {
   "cell_type": "code",
   "execution_count": 5,
   "id": "a1f3e77d",
   "metadata": {},
   "outputs": [],
   "source": [
    "data.drop(columns = nullcols.index, inplace = True)\n",
    "data.drop(columns =['unnamed:_0'],inplace = True)"
   ]
  },
  {
   "cell_type": "code",
   "execution_count": 6,
   "id": "dc0cedb2",
   "metadata": {},
   "outputs": [
    {
     "data": {
      "text/plain": [
       "masvnrtype    60.078278\n",
       "dtype: float64"
      ]
     },
     "execution_count": 6,
     "metadata": {},
     "output_type": "execute_result"
    }
   ],
   "source": [
    "nulls = (data.isnull().sum()/len(data))*100\n",
    "# nullcols = nulls[nulls>80]\n",
    "# nullcols\n",
    "nulls[nulls>50]"
   ]
  },
  {
   "cell_type": "code",
   "execution_count": 7,
   "id": "cea7674d",
   "metadata": {},
   "outputs": [],
   "source": [
    "data.drop(columns = ['masvnrtype'],inplace = True)"
   ]
  },
  {
   "cell_type": "code",
   "execution_count": 8,
   "id": "7a1918ba",
   "metadata": {},
   "outputs": [
    {
     "data": {
      "text/plain": [
       "lotfrontage    17.612524\n",
       "fireplacequ    46.966732\n",
       "dtype: float64"
      ]
     },
     "execution_count": 8,
     "metadata": {},
     "output_type": "execute_result"
    }
   ],
   "source": [
    "nullpercen = data.isnull().sum()*100/len(data)\n",
    "nulls = nullpercen[nullpercen>10]\n",
    "nulls"
   ]
  },
  {
   "cell_type": "code",
   "execution_count": 9,
   "id": "291534f6",
   "metadata": {},
   "outputs": [],
   "source": [
    "data.drop(columns = ['fireplacequ'],inplace = True)"
   ]
  },
  {
   "cell_type": "code",
   "execution_count": 10,
   "id": "e7614fc4",
   "metadata": {},
   "outputs": [],
   "source": [
    "# data with numerical columns\n",
    "num_data = data.select_dtypes(include = 'number')\n",
    "obj_data = data.select_dtypes(include='object')"
   ]
  },
  {
   "cell_type": "code",
   "execution_count": 11,
   "id": "05150c9a",
   "metadata": {},
   "outputs": [],
   "source": [
    "def correlation(dataset, threshold):\n",
    "    col_corr = set()  # Set of all the names of correlated columns\n",
    "    corr_matrix = dataset.corr()\n",
    "    for i in range(len(corr_matrix.columns)):\n",
    "        for j in range(i):\n",
    "            if abs(corr_matrix.iloc[i, j]) > threshold: # we are interested in absolute coeff value\n",
    "                colname = corr_matrix.columns[i]  # getting the name of column\n",
    "                col_corr.add(colname)\n",
    "    return col_corr"
   ]
  },
  {
   "cell_type": "code",
   "execution_count": 12,
   "id": "f4faf608",
   "metadata": {},
   "outputs": [
    {
     "name": "stdout",
     "output_type": "stream",
     "text": [
      "{'totrmsabvgrd', '1stflrsf', 'garageyrblt', 'garagearea'}\n"
     ]
    },
    {
     "data": {
      "text/plain": [
       "4"
      ]
     },
     "execution_count": 12,
     "metadata": {},
     "output_type": "execute_result"
    }
   ],
   "source": [
    "corr_features = correlation(num_data.iloc[:,:37], 0.8)\n",
    "print(corr_features)\n",
    "len(set(corr_features))"
   ]
  },
  {
   "cell_type": "code",
   "execution_count": 13,
   "id": "bc540f96",
   "metadata": {},
   "outputs": [],
   "source": [
    "data.drop(columns =corr_features,inplace = True )"
   ]
  },
  {
   "cell_type": "code",
   "execution_count": 14,
   "id": "91fb7378",
   "metadata": {},
   "outputs": [
    {
     "data": {
      "text/plain": [
       "6"
      ]
     },
     "execution_count": 14,
     "metadata": {},
     "output_type": "execute_result"
    }
   ],
   "source": [
    "columns_zeroes = data.columns[(data == 0).mean() >= 0.90]\n",
    "columns_zeroes = list(columns_zeroes)\n",
    "len(columns_zeroes)"
   ]
  },
  {
   "cell_type": "code",
   "execution_count": 15,
   "id": "db1b4f3a",
   "metadata": {},
   "outputs": [],
   "source": [
    "data.drop(columns = columns_zeroes,inplace = True)\n",
    "data['lotfrontage'] = data['lotfrontage'].fillna(np.mean(data['lotfrontage']))"
   ]
  },
  {
   "cell_type": "code",
   "execution_count": 16,
   "id": "085cbcfb",
   "metadata": {},
   "outputs": [
    {
     "name": "stdout",
     "output_type": "stream",
     "text": [
      "mszoning : 5\n",
      "street : 2\n",
      "lotshape : 4\n",
      "landcontour : 4\n",
      "utilities : 2\n",
      "lotconfig : 5\n",
      "landslope : 3\n",
      "neighborhood : 24\n",
      "condition1 : 9\n",
      "condition2 : 8\n",
      "bldgtype : 5\n",
      "housestyle : 8\n",
      "roofstyle : 6\n",
      "roofmatl : 7\n",
      "exterior1st : 13\n",
      "exterior2nd : 15\n",
      "exterqual : 4\n",
      "extercond : 5\n",
      "foundation : 6\n",
      "bsmtqual : 4\n",
      "bsmtcond : 4\n",
      "bsmtexposure : 4\n",
      "bsmtfintype1 : 6\n",
      "bsmtfintype2 : 6\n",
      "heating : 5\n",
      "heatingqc : 5\n",
      "centralair : 2\n",
      "electrical : 5\n",
      "kitchenqual : 4\n",
      "functional : 6\n",
      "garagetype : 6\n",
      "garagefinish : 3\n",
      "garagequal : 5\n",
      "garagecond : 5\n",
      "paveddrive : 3\n",
      "saletype : 9\n",
      "salecondition : 6\n"
     ]
    }
   ],
   "source": [
    "for i in obj_data.columns:\n",
    "    print(i,':',data[i].nunique())"
   ]
  },
  {
   "cell_type": "code",
   "execution_count": 17,
   "id": "d9c96753",
   "metadata": {},
   "outputs": [],
   "source": [
    "data.dropna(inplace=True)"
   ]
  },
  {
   "cell_type": "code",
   "execution_count": 18,
   "id": "0df625f3",
   "metadata": {},
   "outputs": [],
   "source": [
    "for i in data.select_dtypes(include = 'object'):\n",
    "    ordinal_label = {k: j for j, k in enumerate(data.select_dtypes(include = 'object')[i].unique(), 0)}\n",
    "    data[i] = data[i].map(ordinal_label)"
   ]
  },
  {
   "cell_type": "code",
   "execution_count": 19,
   "id": "2a8a45d1",
   "metadata": {},
   "outputs": [
    {
     "data": {
      "text/plain": [
       "array([0.00000000e+00, 2.48955023e-01, 1.64331492e-01, 2.38435960e-01,\n",
       "       1.66982960e-01, 0.00000000e+00, 7.50353463e-02, 1.52758714e-02,\n",
       "       0.00000000e+00, 2.73445751e-02, 0.00000000e+00, 4.97294461e-01,\n",
       "       1.57411272e-02, 0.00000000e+00, 3.53975372e-02, 7.74414091e-02,\n",
       "       5.24637085e-01, 8.08933291e-02, 3.68133562e-01, 2.56261162e-01,\n",
       "       2.03091509e-02, 1.51745081e-02, 1.36370619e-01, 1.41738929e-01,\n",
       "       9.73524633e-02, 3.36265945e-01, 1.28788366e-03, 2.18090901e-01,\n",
       "       3.19191529e-01, 3.87375698e-03, 6.67849692e-02, 1.27857534e-01,\n",
       "       1.42631997e-01, 0.00000000e+00, 1.60853904e-03, 1.51351444e-01,\n",
       "       3.69525627e-01, 9.11422971e-03, 1.59015286e-01, 4.67291128e-02,\n",
       "       5.21537504e-02, 1.93653002e-01, 4.95603664e-01, 9.09558504e-05,\n",
       "       2.82453208e-01, 5.25746720e-02, 5.67762267e-02, 2.31338244e-02,\n",
       "       3.12258755e-01, 1.24549533e-02, 1.57389982e-01, 1.81889199e-01,\n",
       "       2.26215056e-01, 3.24005403e-01, 2.24429866e-02, 1.76030397e-02,\n",
       "       2.56644994e-02, 5.26075159e-02, 1.68772388e-01, 3.49301635e-02,\n",
       "       0.00000000e+00, 1.24452604e-02, 1.00796594e-01, 9.39016731e-02])"
      ]
     },
     "execution_count": 19,
     "metadata": {},
     "output_type": "execute_result"
    }
   ],
   "source": [
    "from sklearn.feature_selection import mutual_info_regression\n",
    "mutual_info = mutual_info_regression(data.drop('saleprice',axis = 1),data['saleprice'])\n",
    "mutual_info #feature importance"
   ]
  },
  {
   "cell_type": "code",
   "execution_count": 20,
   "id": "8b4bb35c",
   "metadata": {},
   "outputs": [
    {
     "data": {
      "text/plain": [
       "overallqual     0.524637\n",
       "neighborhood    0.497294\n",
       "grlivarea       0.495604\n",
       "totalbsmtsf     0.369526\n",
       "yearbuilt       0.368134\n",
       "                  ...   \n",
       "condition2      0.000000\n",
       "bsmtfintype2    0.000000\n",
       "utilities       0.000000\n",
       "landslope       0.000000\n",
       "id              0.000000\n",
       "Length: 64, dtype: float64"
      ]
     },
     "execution_count": 20,
     "metadata": {},
     "output_type": "execute_result"
    }
   ],
   "source": [
    "mutual_info = pd.Series(mutual_info)\n",
    "mutual_info.index = data.drop('saleprice',axis =1).columns\n",
    "mutual_info.sort_values(ascending=False)"
   ]
  },
  {
   "cell_type": "code",
   "execution_count": 21,
   "id": "127db094",
   "metadata": {},
   "outputs": [
    {
     "data": {
      "text/plain": [
       "<Axes: >"
      ]
     },
     "execution_count": 21,
     "metadata": {},
     "output_type": "execute_result"
    },
    {
     "data": {
      "image/png": "[encoded data removed]",
      "text/plain": [
       "<Figure size 1500x500 with 1 Axes>"
      ]
     },
     "metadata": {},
     "output_type": "display_data"
    }
   ],
   "source": [
    "mutual_info.sort_values(ascending=False).plot.bar(figsize=(15,5))"
   ]
  },
  {
   "cell_type": "code",
   "execution_count": 22,
   "id": "af43c3f5",
   "metadata": {},
   "outputs": [
    {
     "data": {
      "text/html": [
       "<style>#sk-container-id-1 {color: black;}#sk-container-id-1 pre{padding: 0;}#sk-container-id-1 div.sk-toggleable {background-color: white;}#sk-container-id-1 label.sk-toggleable__label {cursor: pointer;display: block;width: 100%;margin-bottom: 0;padding: 0.3em;box-sizing: border-box;text-align: center;}#sk-container-id-1 label.sk-toggleable__label-arrow:before {content: \"▸\";float: left;margin-right: 0.25em;color: #696969;}#sk-container-id-1 label.sk-toggleable__label-arrow:hover:before {color: black;}#sk-container-id-1 div.sk-estimator:hover label.sk-toggleable__label-arrow:before {color: black;}#sk-container-id-1 div.sk-toggleable__content {max-height: 0;max-width: 0;overflow: hidden;text-align: left;background-color: #f0f8ff;}#sk-container-id-1 div.sk-toggleable__content pre {margin: 0.2em;color: black;border-radius: 0.25em;background-color: #f0f8ff;}#sk-container-id-1 input.sk-toggleable__control:checked~div.sk-toggleable__content {max-height: 200px;max-width: 100%;overflow: auto;}#sk-container-id-1 input.sk-toggleable__control:checked~label.sk-toggleable__label-arrow:before {content: \"▾\";}#sk-container-id-1 div.sk-estimator input.sk-toggleable__control:checked~label.sk-toggleable__label {background-color: #d4ebff;}#sk-container-id-1 div.sk-label input.sk-toggleable__control:checked~label.sk-toggleable__label {background-color: #d4ebff;}#sk-container-id-1 input.sk-hidden--visually {border: 0;clip: rect(1px 1px 1px 1px);clip: rect(1px, 1px, 1px, 1px);height: 1px;margin: -1px;overflow: hidden;padding: 0;position: absolute;width: 1px;}#sk-container-id-1 div.sk-estimator {font-family: monospace;background-color: #f0f8ff;border: 1px dotted black;border-radius: 0.25em;box-sizing: border-box;margin-bottom: 0.5em;}#sk-container-id-1 div.sk-estimator:hover {background-color: #d4ebff;}#sk-container-id-1 div.sk-parallel-item::after {content: \"\";width: 100%;border-bottom: 1px solid gray;flex-grow: 1;}#sk-container-id-1 div.sk-label:hover label.sk-toggleable__label {background-color: #d4ebff;}#sk-container-id-1 div.sk-serial::before {content: \"\";position: absolute;border-left: 1px solid gray;box-sizing: border-box;top: 0;bottom: 0;left: 50%;z-index: 0;}#sk-container-id-1 div.sk-serial {display: flex;flex-direction: column;align-items: center;background-color: white;padding-right: 0.2em;padding-left: 0.2em;position: relative;}#sk-container-id-1 div.sk-item {position: relative;z-index: 1;}#sk-container-id-1 div.sk-parallel {display: flex;align-items: stretch;justify-content: center;background-color: white;position: relative;}#sk-container-id-1 div.sk-item::before, #sk-container-id-1 div.sk-parallel-item::before {content: \"\";position: absolute;border-left: 1px solid gray;box-sizing: border-box;top: 0;bottom: 0;left: 50%;z-index: -1;}#sk-container-id-1 div.sk-parallel-item {display: flex;flex-direction: column;z-index: 1;position: relative;background-color: white;}#sk-container-id-1 div.sk-parallel-item:first-child::after {align-self: flex-end;width: 50%;}#sk-container-id-1 div.sk-parallel-item:last-child::after {align-self: flex-start;width: 50%;}#sk-container-id-1 div.sk-parallel-item:only-child::after {width: 0;}#sk-container-id-1 div.sk-dashed-wrapped {border: 1px dashed gray;margin: 0 0.4em 0.5em 0.4em;box-sizing: border-box;padding-bottom: 0.4em;background-color: white;}#sk-container-id-1 div.sk-label label {font-family: monospace;font-weight: bold;display: inline-block;line-height: 1.2em;}#sk-container-id-1 div.sk-label-container {text-align: center;}#sk-container-id-1 div.sk-container {/* jupyter's `normalize.less` sets `[hidden] { display: none; }` but bootstrap.min.css set `[hidden] { display: none !important; }` so we also need the `!important` here to be able to override the default hidden behavior on the sphinx rendered scikit-learn.org. See: https://github.com/scikit-learn/scikit-learn/issues/21755 */display: inline-block !important;position: relative;}#sk-container-id-1 div.sk-text-repr-fallback {display: none;}</style><div id=\"sk-container-id-1\" class=\"sk-top-container\"><div class=\"sk-text-repr-fallback\"><pre>SelectPercentile(percentile=55,\n",
       "                 score_func=&lt;function mutual_info_regression at 0x000001D684FA79C0&gt;)</pre><b>In a Jupyter environment, please rerun this cell to show the HTML representation or trust the notebook. <br />On GitHub, the HTML representation is unable to render, please try loading this page with nbviewer.org.</b></div><div class=\"sk-container\" hidden><div class=\"sk-item\"><div class=\"sk-estimator sk-toggleable\"><input class=\"sk-toggleable__control sk-hidden--visually\" id=\"sk-estimator-id-1\" type=\"checkbox\" checked><label for=\"sk-estimator-id-1\" class=\"sk-toggleable__label sk-toggleable__label-arrow\">SelectPercentile</label><div class=\"sk-toggleable__content\"><pre>SelectPercentile(percentile=55,\n",
       "                 score_func=&lt;function mutual_info_regression at 0x000001D684FA79C0&gt;)</pre></div></div></div></div></div>"
      ],
      "text/plain": [
       "SelectPercentile(percentile=55,\n",
       "                 score_func=<function mutual_info_regression at 0x000001D684FA79C0>)"
      ]
     },
     "execution_count": 22,
     "metadata": {},
     "output_type": "execute_result"
    }
   ],
   "source": [
    "from sklearn.feature_selection import SelectPercentile\n",
    "selected_top_columns = SelectPercentile(mutual_info_regression, percentile=55)## Selecting the top 70 percentile\n",
    "selected_top_columns.fit(data.drop('saleprice',axis = 1),data['saleprice'])"
   ]
  },
  {
   "cell_type": "code",
   "execution_count": 23,
   "id": "94f5c8cd",
   "metadata": {},
   "outputs": [
    {
     "name": "stdout",
     "output_type": "stream",
     "text": [
      "35\n",
      "['mssubclass', 'mszoning', 'lotfrontage', 'lotarea', 'lotshape', 'neighborhood', 'housestyle', 'overallqual', 'overallcond', 'yearbuilt', 'yearremodadd', 'exterior1st', 'exterior2nd', 'masvnrarea', 'exterqual', 'foundation', 'bsmtqual', 'bsmtexposure', 'bsmtfintype1', 'bsmtfinsf1', 'bsmtunfsf', 'totalbsmtsf', 'heatingqc', '2ndflrsf', 'grlivarea', 'fullbath', 'halfbath', 'kitchenqual', 'fireplaces', 'garagetype', 'garagefinish', 'garagecars', 'openporchsf', 'saletype', 'salecondition']\n"
     ]
    }
   ],
   "source": [
    "imp_columns =list(data.drop('saleprice',axis = 1).columns[selected_top_columns.get_support()])\n",
    "print(len(imp_columns))\n",
    "print(imp_columns)"
   ]
  },
  {
   "cell_type": "code",
   "execution_count": 24,
   "id": "c381c6d4",
   "metadata": {},
   "outputs": [],
   "source": [
    "selected_features = ['OverallQual', 'GrLivArea', 'GarageCars', 'TotalBsmtSF', '1stFlrSF',\n",
    "                     'FullBath', 'TotRmsAbvGrd', 'YearBuilt', 'YearRemodAdd',\n",
    "                     'MasVnrArea', 'Fireplaces', 'BsmtFinSF1', 'WoodDeckSF',\n",
    "                     '2ndFlrSF', 'OpenPorchSF', 'HalfBath', 'LotArea', 'BsmtFullBath',\n",
    "                     'BsmtUnfSF', 'BedroomAbvGr', 'ScreenPorch', 'PoolArea',\n",
    "                     'YrSold', 'OverallCond', 'EnclosedPorch', 'KitchenAbvGr',\n",
    "                     'MSSubClass', 'Heating', 'BldgType', 'Foundation', 'CentralAir',\n",
    "                     'Functional', 'BsmtExposure', 'BsmtCond', 'ExterCond', 'SalePrice']"
   ]
  },
  {
   "cell_type": "code",
   "execution_count": 25,
   "id": "9ab3b9ff",
   "metadata": {},
   "outputs": [
    {
     "data": {
      "text/plain": [
       "(934, 35)"
      ]
     },
     "execution_count": 25,
     "metadata": {},
     "output_type": "execute_result"
    }
   ],
   "source": [
    "x_train = data[imp_columns]\n",
    "y_train = data['saleprice']\n",
    "x_train.shape"
   ]
  },
  {
   "cell_type": "code",
   "execution_count": 48,
   "id": "d2ab43ea",
   "metadata": {},
   "outputs": [],
   "source": [
    "test_data = pd.read_csv('test.csv')"
   ]
  },
  {
   "cell_type": "code",
   "execution_count": 49,
   "id": "672c1a4b",
   "metadata": {},
   "outputs": [],
   "source": [
    "col_names = [ col.strip().lower().replace(' ', '_').replace('-', '_') for col in test_data.columns ]\n",
    "test_data.columns = col_names\n",
    "test_data['lotfrontage'] = test_data['lotfrontage'].fillna(np.mean(test_data['lotfrontage']))\n",
    "for i in test_data.select_dtypes(include = 'object'):\n",
    "    ordinal_label = {k: j for j, k in enumerate(test_data.select_dtypes(include = 'object')[i].unique(), 0)}\n",
    "    test_data[i] = test_data[i].map(ordinal_label)"
   ]
  },
  {
   "cell_type": "code",
   "execution_count": 50,
   "id": "699d794e",
   "metadata": {},
   "outputs": [],
   "source": [
    "test_data.dropna(inplace=True)"
   ]
  },
  {
   "cell_type": "code",
   "execution_count": 51,
   "id": "42bc751e",
   "metadata": {},
   "outputs": [],
   "source": [
    "x_test = test_data[imp_columns]\n",
    "y_test = test_data['saleprice']"
   ]
  },
  {
   "cell_type": "code",
   "execution_count": 52,
   "id": "a0066087",
   "metadata": {},
   "outputs": [
    {
     "name": "stdout",
     "output_type": "stream",
     "text": [
      "(934, 35)\n",
      "(934,)\n",
      "(410, 35)\n",
      "(410,)\n"
     ]
    }
   ],
   "source": [
    "d = [x_train,y_train,x_test,y_test]\n",
    "for i in d:\n",
    "    print(i.shape)"
   ]
  },
  {
   "cell_type": "code",
   "execution_count": 57,
   "id": "02439308",
   "metadata": {},
   "outputs": [],
   "source": [
    "from sklearn.linear_model import LinearRegression\n",
    "from sklearn.preprocessing import StandardScaler\n",
    "from sklearn.metrics import mean_squared_error\n",
    "from sklearn.model_selection import GridSearchCV"
   ]
  },
  {
   "cell_type": "code",
   "execution_count": 58,
   "id": "e29e7cca",
   "metadata": {},
   "outputs": [],
   "source": [
    "X_train = x_train\n",
    "Y_train = y_train\n",
    "X_test = x_test\n",
    "Y_test= y_test"
   ]
  },
  {
   "cell_type": "code",
   "execution_count": 60,
   "id": "c03ed3d6",
   "metadata": {},
   "outputs": [
    {
     "name": "stdout",
     "output_type": "stream",
     "text": [
      "Mean Squared Error on Test Data for linear regression: 1293895173.1816843\n",
      "Best Hyperparameters for linear regression: {'copy_X': True, 'fit_intercept': True, 'n_jobs': None, 'positive': False}\n"
     ]
    }
   ],
   "source": [
    "print(\"Mean Squared Error on Test Data for linear regression:\", mse)\n",
    "print(\"Best Hyperparameters for linear regression:\", best_params)"
   ]
  },
  {
   "cell_type": "code",
   "execution_count": 62,
   "id": "f615b115",
   "metadata": {},
   "outputs": [
    {
     "data": {
      "text/html": [
       "<style>#sk-container-id-2 {color: black;}#sk-container-id-2 pre{padding: 0;}#sk-container-id-2 div.sk-toggleable {background-color: white;}#sk-container-id-2 label.sk-toggleable__label {cursor: pointer;display: block;width: 100%;margin-bottom: 0;padding: 0.3em;box-sizing: border-box;text-align: center;}#sk-container-id-2 label.sk-toggleable__label-arrow:before {content: \"▸\";float: left;margin-right: 0.25em;color: #696969;}#sk-container-id-2 label.sk-toggleable__label-arrow:hover:before {color: black;}#sk-container-id-2 div.sk-estimator:hover label.sk-toggleable__label-arrow:before {color: black;}#sk-container-id-2 div.sk-toggleable__content {max-height: 0;max-width: 0;overflow: hidden;text-align: left;background-color: #f0f8ff;}#sk-container-id-2 div.sk-toggleable__content pre {margin: 0.2em;color: black;border-radius: 0.25em;background-color: #f0f8ff;}#sk-container-id-2 input.sk-toggleable__control:checked~div.sk-toggleable__content {max-height: 200px;max-width: 100%;overflow: auto;}#sk-container-id-2 input.sk-toggleable__control:checked~label.sk-toggleable__label-arrow:before {content: \"▾\";}#sk-container-id-2 div.sk-estimator input.sk-toggleable__control:checked~label.sk-toggleable__label {background-color: #d4ebff;}#sk-container-id-2 div.sk-label input.sk-toggleable__control:checked~label.sk-toggleable__label {background-color: #d4ebff;}#sk-container-id-2 input.sk-hidden--visually {border: 0;clip: rect(1px 1px 1px 1px);clip: rect(1px, 1px, 1px, 1px);height: 1px;margin: -1px;overflow: hidden;padding: 0;position: absolute;width: 1px;}#sk-container-id-2 div.sk-estimator {font-family: monospace;background-color: #f0f8ff;border: 1px dotted black;border-radius: 0.25em;box-sizing: border-box;margin-bottom: 0.5em;}#sk-container-id-2 div.sk-estimator:hover {background-color: #d4ebff;}#sk-container-id-2 div.sk-parallel-item::after {content: \"\";width: 100%;border-bottom: 1px solid gray;flex-grow: 1;}#sk-container-id-2 div.sk-label:hover label.sk-toggleable__label {background-color: #d4ebff;}#sk-container-id-2 div.sk-serial::before {content: \"\";position: absolute;border-left: 1px solid gray;box-sizing: border-box;top: 0;bottom: 0;left: 50%;z-index: 0;}#sk-container-id-2 div.sk-serial {display: flex;flex-direction: column;align-items: center;background-color: white;padding-right: 0.2em;padding-left: 0.2em;position: relative;}#sk-container-id-2 div.sk-item {position: relative;z-index: 1;}#sk-container-id-2 div.sk-parallel {display: flex;align-items: stretch;justify-content: center;background-color: white;position: relative;}#sk-container-id-2 div.sk-item::before, #sk-container-id-2 div.sk-parallel-item::before {content: \"\";position: absolute;border-left: 1px solid gray;box-sizing: border-box;top: 0;bottom: 0;left: 50%;z-index: -1;}#sk-container-id-2 div.sk-parallel-item {display: flex;flex-direction: column;z-index: 1;position: relative;background-color: white;}#sk-container-id-2 div.sk-parallel-item:first-child::after {align-self: flex-end;width: 50%;}#sk-container-id-2 div.sk-parallel-item:last-child::after {align-self: flex-start;width: 50%;}#sk-container-id-2 div.sk-parallel-item:only-child::after {width: 0;}#sk-container-id-2 div.sk-dashed-wrapped {border: 1px dashed gray;margin: 0 0.4em 0.5em 0.4em;box-sizing: border-box;padding-bottom: 0.4em;background-color: white;}#sk-container-id-2 div.sk-label label {font-family: monospace;font-weight: bold;display: inline-block;line-height: 1.2em;}#sk-container-id-2 div.sk-label-container {text-align: center;}#sk-container-id-2 div.sk-container {/* jupyter's `normalize.less` sets `[hidden] { display: none; }` but bootstrap.min.css set `[hidden] { display: none !important; }` so we also need the `!important` here to be able to override the default hidden behavior on the sphinx rendered scikit-learn.org. See: https://github.com/scikit-learn/scikit-learn/issues/21755 */display: inline-block !important;position: relative;}#sk-container-id-2 div.sk-text-repr-fallback {display: none;}</style><div id=\"sk-container-id-2\" class=\"sk-top-container\"><div class=\"sk-text-repr-fallback\"><pre>LinearRegression()</pre><b>In a Jupyter environment, please rerun this cell to show the HTML representation or trust the notebook. <br />On GitHub, the HTML representation is unable to render, please try loading this page with nbviewer.org.</b></div><div class=\"sk-container\" hidden><div class=\"sk-item\"><div class=\"sk-estimator sk-toggleable\"><input class=\"sk-toggleable__control sk-hidden--visually\" id=\"sk-estimator-id-2\" type=\"checkbox\" checked><label for=\"sk-estimator-id-2\" class=\"sk-toggleable__label sk-toggleable__label-arrow\">LinearRegression</label><div class=\"sk-toggleable__content\"><pre>LinearRegression()</pre></div></div></div></div></div>"
      ],
      "text/plain": [
       "LinearRegression()"
      ]
     },
     "execution_count": 62,
     "metadata": {},
     "output_type": "execute_result"
    }
   ],
   "source": [
    "reg = LinearRegression()\n",
    "reg.fit(x_train,y_train)\n"
   ]
  },
  {
   "cell_type": "code",
   "execution_count": 63,
   "id": "a6727b12",
   "metadata": {},
   "outputs": [],
   "source": [
    "scale_1 = StandardScaler()\n",
    "scale_2 = StandardScaler()"
   ]
  },
  {
   "cell_type": "code",
   "execution_count": 64,
   "id": "90cbb47d",
   "metadata": {},
   "outputs": [],
   "source": [
    "X_train = scale_1.fit_transform(X_train)\n",
    "y_train = scale_2.fit_transform(y_train.values.reshape(-1,1))"
   ]
  },
  {
   "cell_type": "code",
   "execution_count": 65,
   "id": "6a758d17",
   "metadata": {},
   "outputs": [],
   "source": [
    "X_test = scale_1.transform(X_test)\n",
    "y_test = scale_2.transform(y_test.values.reshape(-1,1))"
   ]
  },
  {
   "cell_type": "code",
   "execution_count": 66,
   "id": "81535733",
   "metadata": {},
   "outputs": [
    {
     "data": {
      "text/html": [
       "<style>#sk-container-id-3 {color: black;}#sk-container-id-3 pre{padding: 0;}#sk-container-id-3 div.sk-toggleable {background-color: white;}#sk-container-id-3 label.sk-toggleable__label {cursor: pointer;display: block;width: 100%;margin-bottom: 0;padding: 0.3em;box-sizing: border-box;text-align: center;}#sk-container-id-3 label.sk-toggleable__label-arrow:before {content: \"▸\";float: left;margin-right: 0.25em;color: #696969;}#sk-container-id-3 label.sk-toggleable__label-arrow:hover:before {color: black;}#sk-container-id-3 div.sk-estimator:hover label.sk-toggleable__label-arrow:before {color: black;}#sk-container-id-3 div.sk-toggleable__content {max-height: 0;max-width: 0;overflow: hidden;text-align: left;background-color: #f0f8ff;}#sk-container-id-3 div.sk-toggleable__content pre {margin: 0.2em;color: black;border-radius: 0.25em;background-color: #f0f8ff;}#sk-container-id-3 input.sk-toggleable__control:checked~div.sk-toggleable__content {max-height: 200px;max-width: 100%;overflow: auto;}#sk-container-id-3 input.sk-toggleable__control:checked~label.sk-toggleable__label-arrow:before {content: \"▾\";}#sk-container-id-3 div.sk-estimator input.sk-toggleable__control:checked~label.sk-toggleable__label {background-color: #d4ebff;}#sk-container-id-3 div.sk-label input.sk-toggleable__control:checked~label.sk-toggleable__label {background-color: #d4ebff;}#sk-container-id-3 input.sk-hidden--visually {border: 0;clip: rect(1px 1px 1px 1px);clip: rect(1px, 1px, 1px, 1px);height: 1px;margin: -1px;overflow: hidden;padding: 0;position: absolute;width: 1px;}#sk-container-id-3 div.sk-estimator {font-family: monospace;background-color: #f0f8ff;border: 1px dotted black;border-radius: 0.25em;box-sizing: border-box;margin-bottom: 0.5em;}#sk-container-id-3 div.sk-estimator:hover {background-color: #d4ebff;}#sk-container-id-3 div.sk-parallel-item::after {content: \"\";width: 100%;border-bottom: 1px solid gray;flex-grow: 1;}#sk-container-id-3 div.sk-label:hover label.sk-toggleable__label {background-color: #d4ebff;}#sk-container-id-3 div.sk-serial::before {content: \"\";position: absolute;border-left: 1px solid gray;box-sizing: border-box;top: 0;bottom: 0;left: 50%;z-index: 0;}#sk-container-id-3 div.sk-serial {display: flex;flex-direction: column;align-items: center;background-color: white;padding-right: 0.2em;padding-left: 0.2em;position: relative;}#sk-container-id-3 div.sk-item {position: relative;z-index: 1;}#sk-container-id-3 div.sk-parallel {display: flex;align-items: stretch;justify-content: center;background-color: white;position: relative;}#sk-container-id-3 div.sk-item::before, #sk-container-id-3 div.sk-parallel-item::before {content: \"\";position: absolute;border-left: 1px solid gray;box-sizing: border-box;top: 0;bottom: 0;left: 50%;z-index: -1;}#sk-container-id-3 div.sk-parallel-item {display: flex;flex-direction: column;z-index: 1;position: relative;background-color: white;}#sk-container-id-3 div.sk-parallel-item:first-child::after {align-self: flex-end;width: 50%;}#sk-container-id-3 div.sk-parallel-item:last-child::after {align-self: flex-start;width: 50%;}#sk-container-id-3 div.sk-parallel-item:only-child::after {width: 0;}#sk-container-id-3 div.sk-dashed-wrapped {border: 1px dashed gray;margin: 0 0.4em 0.5em 0.4em;box-sizing: border-box;padding-bottom: 0.4em;background-color: white;}#sk-container-id-3 div.sk-label label {font-family: monospace;font-weight: bold;display: inline-block;line-height: 1.2em;}#sk-container-id-3 div.sk-label-container {text-align: center;}#sk-container-id-3 div.sk-container {/* jupyter's `normalize.less` sets `[hidden] { display: none; }` but bootstrap.min.css set `[hidden] { display: none !important; }` so we also need the `!important` here to be able to override the default hidden behavior on the sphinx rendered scikit-learn.org. See: https://github.com/scikit-learn/scikit-learn/issues/21755 */display: inline-block !important;position: relative;}#sk-container-id-3 div.sk-text-repr-fallback {display: none;}</style><div id=\"sk-container-id-3\" class=\"sk-top-container\"><div class=\"sk-text-repr-fallback\"><pre>LinearRegression()</pre><b>In a Jupyter environment, please rerun this cell to show the HTML representation or trust the notebook. <br />On GitHub, the HTML representation is unable to render, please try loading this page with nbviewer.org.</b></div><div class=\"sk-container\" hidden><div class=\"sk-item\"><div class=\"sk-estimator sk-toggleable\"><input class=\"sk-toggleable__control sk-hidden--visually\" id=\"sk-estimator-id-3\" type=\"checkbox\" checked><label for=\"sk-estimator-id-3\" class=\"sk-toggleable__label sk-toggleable__label-arrow\">LinearRegression</label><div class=\"sk-toggleable__content\"><pre>LinearRegression()</pre></div></div></div></div></div>"
      ],
      "text/plain": [
       "LinearRegression()"
      ]
     },
     "execution_count": 66,
     "metadata": {},
     "output_type": "execute_result"
    }
   ],
   "source": [
    "reg.fit(X_train,y_train)"
   ]
  },
  {
   "cell_type": "code",
   "execution_count": 67,
   "id": "598fcb7b",
   "metadata": {},
   "outputs": [],
   "source": [
    "y_preds= reg.predict(X_test)"
   ]
  },
  {
   "cell_type": "code",
   "execution_count": 68,
   "id": "a1c43153",
   "metadata": {},
   "outputs": [],
   "source": [
    "y_preds = scale_2.inverse_transform(y_preds)\n",
    "y_test =scale_2.inverse_transform(y_test)"
   ]
  },
  {
   "cell_type": "code",
   "execution_count": 76,
   "id": "f811410a",
   "metadata": {},
   "outputs": [
    {
     "name": "stdout",
     "output_type": "stream",
     "text": [
      "RMSE value of the model is  35970.75441496369\n"
     ]
    }
   ],
   "source": [
    "print('RMSE value of the model is ',mean_squared_error(y_test, y_preds, squared=False))"
   ]
  },
  {
   "cell_type": "code",
   "execution_count": 78,
   "id": "93fb750b",
   "metadata": {},
   "outputs": [],
   "source": [
    "from sklearn.metrics import r2_score,mean_absolute_percentage_error"
   ]
  },
  {
   "cell_type": "code",
   "execution_count": 79,
   "id": "7c7fb7e6",
   "metadata": {},
   "outputs": [
    {
     "name": "stdout",
     "output_type": "stream",
     "text": [
      "MAPE value of the model is  0.14640666657966903\n",
      "RMSE value of the model is  35970.75441496369\n",
      "R2 score value of the model is  0.7713146414719324\n"
     ]
    }
   ],
   "source": [
    "print('MAPE value of the model is ',mean_absolute_percentage_error(y_test, y_preds))\n",
    "print('RMSE value of the model is ',mean_squared_error(y_test, y_preds, squared=False))\n",
    "print('R2 score value of the model is ',r2_score(y_test, y_preds))"
   ]
  },
  {
   "cell_type": "code",
   "execution_count": 82,
   "id": "af47b742",
   "metadata": {},
   "outputs": [],
   "source": [
    "def outliers_data(data,col):\n",
    "    Q1 = data[col].quantile(0.25)\n",
    "    Q3 = data[col].quantile(0.75)\n",
    "    iqr = Q3 - Q1\n",
    "\n",
    "    lb = Q1 - (1.5*iqr)\n",
    "    ub = Q3 + (1.5*iqr)\n",
    "    outliers = (data[((data[col]<lb) | (data[col]>ub))][col])\n",
    "    outliers_length =len(outliers)\n",
    "    print('outlier_length:',outlier_length)\n",
    "    print('outliers:',outliers)\n",
    "    \n",
    "  "
   ]
  },
  {
   "cell_type": "code",
   "execution_count": 95,
   "id": "901bfbd4",
   "metadata": {},
   "outputs": [
    {
     "data": {
      "text/plain": [
       "Index(['Unnamed: 0', 'Id', 'MSSubClass', 'MSZoning', 'LotFrontage', 'LotArea',\n",
       "       'Street', 'Alley', 'LotShape', 'LandContour', 'Utilities', 'LotConfig',\n",
       "       'LandSlope', 'Neighborhood', 'Condition1', 'Condition2', 'BldgType',\n",
       "       'HouseStyle', 'OverallQual', 'OverallCond', 'YearBuilt', 'YearRemodAdd',\n",
       "       'RoofStyle', 'RoofMatl', 'Exterior1st', 'Exterior2nd', 'MasVnrType',\n",
       "       'MasVnrArea', 'ExterQual', 'ExterCond', 'Foundation', 'BsmtQual',\n",
       "       'BsmtCond', 'BsmtExposure', 'BsmtFinType1', 'BsmtFinSF1',\n",
       "       'BsmtFinType2', 'BsmtFinSF2', 'BsmtUnfSF', 'TotalBsmtSF', 'Heating',\n",
       "       'HeatingQC', 'CentralAir', 'Electrical', '1stFlrSF', '2ndFlrSF',\n",
       "       'LowQualFinSF', 'GrLivArea', 'BsmtFullBath', 'BsmtHalfBath', 'FullBath',\n",
       "       'HalfBath', 'BedroomAbvGr', 'KitchenAbvGr', 'KitchenQual',\n",
       "       'TotRmsAbvGrd', 'Functional', 'Fireplaces', 'FireplaceQu', 'GarageType',\n",
       "       'GarageYrBlt', 'GarageFinish', 'GarageCars', 'GarageArea', 'GarageQual',\n",
       "       'GarageCond', 'PavedDrive', 'WoodDeckSF', 'OpenPorchSF',\n",
       "       'EnclosedPorch', '3SsnPorch', 'ScreenPorch', 'PoolArea', 'PoolQC',\n",
       "       'Fence', 'MiscFeature', 'MiscVal', 'MoSold', 'YrSold', 'SaleType',\n",
       "       'SaleCondition', 'SalePrice'],\n",
       "      dtype='object')"
      ]
     },
     "execution_count": 95,
     "metadata": {},
     "output_type": "execute_result"
    }
   ],
   "source": [
    "train_data.columns"
   ]
  },
  {
   "cell_type": "markdown",
   "id": "5433c9cf",
   "metadata": {},
   "source": [
    "### Preprocessing in a single function for test function"
   ]
  },
  {
   "cell_type": "code",
   "execution_count": 160,
   "id": "85b8c66a",
   "metadata": {},
   "outputs": [
    {
     "name": "stderr",
     "output_type": "stream",
     "text": [
      "C:\\Users\\samee\\anaconda3\\Lib\\site-packages\\sklearn\\preprocessing\\_encoders.py:975: FutureWarning: `sparse` was renamed to `sparse_output` in version 1.2 and will be removed in 1.4. `sparse_output` is ignored unless you leave `sparse` to its default value.\n",
      "  warnings.warn(\n",
      "C:\\Users\\samee\\anaconda3\\Lib\\site-packages\\sklearn\\feature_selection\\_univariate_selection.py:113: RuntimeWarning: divide by zero encountered in divide\n",
      "  f = msb / msw\n",
      "C:\\Users\\samee\\anaconda3\\Lib\\site-packages\\sklearn\\preprocessing\\_encoders.py:975: FutureWarning: `sparse` was renamed to `sparse_output` in version 1.2 and will be removed in 1.4. `sparse_output` is ignored unless you leave `sparse` to its default value.\n",
      "  warnings.warn(\n",
      "C:\\Users\\samee\\anaconda3\\Lib\\site-packages\\sklearn\\feature_selection\\_univariate_selection.py:112: UserWarning: Features [ 34  38  54  58  65  87  95  96  99 121 124 126 129 135 140 146 151 162\n",
      " 187 199 209 225 246] are constant.\n",
      "  warnings.warn(\"Features %s are constant.\" % constant_features_idx, UserWarning)\n",
      "C:\\Users\\samee\\anaconda3\\Lib\\site-packages\\sklearn\\feature_selection\\_univariate_selection.py:113: RuntimeWarning: divide by zero encountered in divide\n",
      "  f = msb / msw\n",
      "C:\\Users\\samee\\anaconda3\\Lib\\site-packages\\sklearn\\feature_selection\\_univariate_selection.py:113: RuntimeWarning: invalid value encountered in divide\n",
      "  f = msb / msw\n"
     ]
    },
    {
     "data": {
      "text/plain": [
       "(438, 35)"
      ]
     },
     "execution_count": 160,
     "metadata": {},
     "output_type": "execute_result"
    }
   ],
   "source": [
    "def preprocess_data(data, train=True, encoder=None, scaler=None, feature_selector=None):\n",
    "    columns_to_drop = data.columns[data.isnull().mean() > 0.5]\n",
    "    data = data.drop(columns=columns_to_drop)\n",
    "    num_imputer = SimpleImputer(strategy='median')\n",
    "    cat_imputer = SimpleImputer(strategy='most_frequent')\n",
    "    numerical_cols = data.select_dtypes(include=['int64', 'float64']).columns\n",
    "    categorical_cols = data.select_dtypes(include=['object']).columns\n",
    "    data[numerical_cols] = num_imputer.fit_transform(data[numerical_cols])\n",
    "    data[categorical_cols] = cat_imputer.fit_transform(data[categorical_cols])\n",
    "\n",
    "    # One-hot encoding\n",
    "    if train:\n",
    "        encoder = OneHotEncoder(sparse=False, handle_unknown='ignore')\n",
    "        encoded_data = encoder.fit_transform(data[categorical_cols])\n",
    "    else:\n",
    "        encoded_data = encoder.transform(data[categorical_cols])\n",
    "\n",
    "    encoded_df = pd.DataFrame(encoded_data, columns=encoder.get_feature_names_out(categorical_cols))\n",
    "    data = pd.concat([data.drop(columns=categorical_cols), encoded_df], axis=1)\n",
    "\n",
    "    # Scaling\n",
    "    if train:\n",
    "        scaler = StandardScaler()\n",
    "        scaled_data = scaler.fit_transform(data)\n",
    "    else:\n",
    "        scaled_data = scaler.transform(data)\n",
    "\n",
    "    # Feature selection\n",
    "    if train:\n",
    "        feature_selector = SelectKBest(f_classif, k=35)\n",
    "        selected_data = feature_selector.fit_transform(scaled_data, y)\n",
    "    else:\n",
    "        selected_data = feature_selector.transform(scaled_data)\n",
    "\n",
    "    return selected_data, encoder, scaler, feature_selector\n",
    "\n",
    "# train data\n",
    "train_processed, encoder, scaler, feature_selector = preprocess_data(train_data, train=True)\n",
    "print(train_processed.shape)\n",
    "# test data\n",
    "test_processed, _, _, _ = preprocess_data(test_data, train=False, encoder=encoder, scaler=scaler, feature_selector=feature_selector)\n",
    "print(test_processed.shape)"
   ]
  },
  {
   "cell_type": "markdown",
   "id": "7084d3a0",
   "metadata": {},
   "source": [
    "### Subgrouping and classification for predicting the group for a test datapoint"
   ]
  },
  {
   "cell_type": "code",
   "execution_count": 198,
   "id": "2ffd4594",
   "metadata": {},
   "outputs": [
    {
     "name": "stderr",
     "output_type": "stream",
     "text": [
      "C:\\Users\\samee\\anaconda3\\Lib\\site-packages\\sklearn\\cluster\\_kmeans.py:1416: FutureWarning: The default value of `n_init` will change from 10 to 'auto' in 1.4. Set the value of `n_init` explicitly to suppress the warning\n",
      "  super()._check_params_vs_input(X, default_n_init=10)\n",
      "C:\\Users\\samee\\anaconda3\\Lib\\site-packages\\sklearn\\cluster\\_kmeans.py:1440: UserWarning: KMeans is known to have a memory leak on Windows with MKL, when there are less chunks than available threads. You can avoid it by setting the environment variable OMP_NUM_THREADS=4.\n",
      "  warnings.warn(\n"
     ]
    },
    {
     "name": "stdout",
     "output_type": "stream",
     "text": [
      "1    634\n",
      "2    330\n",
      "0     58\n",
      "Name: count, dtype: int64\n",
      "First few predicted subgroups for test data: [1 2 1 1 1 2 1 2 1 1]\n",
      "1    290\n",
      "2    131\n",
      "0     17\n",
      "Name: count, dtype: int64\n"
     ]
    }
   ],
   "source": [
    "from sklearn.cluster import KMeans\n",
    "from sklearn.ensemble import RandomForestClassifier\n",
    "from sklearn.model_selection import GridSearchCV\n",
    "\n",
    "# Apply KMeans Clustering to create subgroups in the training data\n",
    "k = 3  # Number of subgroups\n",
    "kmeans = KMeans(n_clusters=k, random_state=42)\n",
    "train_subgroups = kmeans.fit_predict(train_processed)\n",
    "\n",
    "# Initialize the classifier\n",
    "classifier = RandomForestClassifier(random_state=42)\n",
    "\n",
    "# Define the parameter grid for GridSearchCV\n",
    "param_grid = {\n",
    "    'n_estimators': [100, 200, 300],\n",
    "    'max_depth': [5, 10, 15],\n",
    "    'min_samples_split': [2, 4, 6]\n",
    "}\n",
    "\n",
    "# GridSearchCV for hyperparameter tuning\n",
    "grid_search = GridSearchCV(classifier, param_grid, cv=5, scoring='accuracy')\n",
    "grid_search.fit(train_processed, train_subgroups)\n",
    "\n",
    "# Best model from grid search\n",
    "best_classifier = grid_search.best_estimator_\n",
    "\n",
    "# Predict subgroups for the reduced test data\n",
    "test_predicted_subgroups = best_classifier.predict(test_processed)\n",
    "\n",
    "# Checking the distribution of data in subgroups in the training data\n",
    "subgroup_distribution = pd.Series(train_subgroups).value_counts()\n",
    "print(subgroup_distribution)\n",
    "\n",
    "# Outputting a few predicted subgroups for the test data\n",
    "print(\"First few predicted subgroups for test data:\", test_predicted_subgroups[:10])\n",
    "\n",
    "subgroup_distribution_2 = pd.Series(test_predicted_subgroups).value_counts()\n",
    "print(subgroup_distribution_2)"
   ]
  },
  {
   "cell_type": "markdown",
   "id": "7670e0c6",
   "metadata": {},
   "source": [
    "### Regression Model implimentation - LR,Ridge, Random Forest and SVR"
   ]
  },
  {
   "cell_type": "code",
   "execution_count": 170,
   "id": "8f73f1ad",
   "metadata": {},
   "outputs": [
    {
     "name": "stdout",
     "output_type": "stream",
     "text": [
      "MSE for Group 0: 97818351.73267063\n",
      "MSE for Group 1: 112597.77499574132\n",
      "MSE for Group 2: 768463.1488796958\n"
     ]
    }
   ],
   "source": [
    "from sklearn.model_selection import GridSearchCV\n",
    "from sklearn.linear_model import LinearRegression, Ridge\n",
    "from sklearn.ensemble import GradientBoostingRegressor, RandomForestRegressor, StackingRegressor\n",
    "from sklearn.svm import SVR\n",
    "from sklearn.metrics import mean_squared_error\n",
    "mse_avg = []\n",
    "# Function to find the best model using GridSearchCV\n",
    "def find_best_model(X, y, model, param_grid):\n",
    "    grid_search = GridSearchCV(model, param_grid, cv=5, scoring='neg_mean_squared_error')\n",
    "    grid_search.fit(X, y)\n",
    "    return grid_search.best_estimator_\n",
    "\n",
    "# Define the parameter grids for each model\n",
    "param_grids = {\n",
    "    \"Linear Regression\": {'fit_intercept': [True, False]},\n",
    "    \"Ridge\": {'alpha': [0.1, 1, 10]},\n",
    "    \"Random Forest\": {'n_estimators': [100, 200], 'max_depth': [5, 10]},\n",
    "    \"SVR\": {'C': [0.1, 1, 10], 'gamma': ['scale', 'auto']}\n",
    "}\n",
    "\n",
    "# Train and validate models for each subgroup\n",
    "group_models = {}\n",
    "for group in range(k):\n",
    "    group_data = train_processed[train_subgroups == group]\n",
    "    group_target = train_data['SalePrice'][train_subgroups == group]\n",
    "\n",
    "    best_models = {}\n",
    "    for model_name, model_params in param_grids.items():\n",
    "        model = {\n",
    "            'Linear Regression': LinearRegression(),\n",
    "            'Ridge': Ridge(),\n",
    "            'Random Forest': RandomForestRegressor(),\n",
    "            'SVR': SVR()\n",
    "        }[model_name]\n",
    "        best_model = find_best_model(group_data, group_target, model, model_params)\n",
    "        best_models[model_name] = best_model\n",
    "\n",
    "    # Stacking method for final model in each subgroup\n",
    "    estimators = [(name, model) for name, model in best_models.items()]\n",
    "    stack_reg = StackingRegressor(estimators=estimators, final_estimator=RandomForestRegressor())\n",
    "    stack_reg.fit(group_data, group_target)\n",
    "    group_models[group] = stack_reg\n",
    "\n",
    "# final model for each subgroup using MSE\n",
    "for group in range(k):\n",
    "    group_data = train_processed[train_subgroups == group]\n",
    "    group_target = train_data['SalePrice'][train_subgroups == group]\n",
    "    predicted = group_models[group].predict(group_data)\n",
    "    mse = mean_squared_error(group_target, predicted)\n",
    "    mse_avg.append(mse)\n",
    "    print(f\"MSE for Group {group}: {mse}\")\n"
   ]
  },
  {
   "cell_type": "markdown",
   "id": "62da81e2",
   "metadata": {},
   "source": [
    "### Average MSE value"
   ]
  },
  {
   "cell_type": "code",
   "execution_count": 174,
   "id": "d9896694",
   "metadata": {},
   "outputs": [
    {
     "data": {
      "text/plain": [
       "32899804.21884869"
      ]
     },
     "execution_count": 174,
     "metadata": {},
     "output_type": "execute_result"
    }
   ],
   "source": [
    "np.mean(mse_avg)"
   ]
  },
  {
   "cell_type": "markdown",
   "id": "3dc84ad9",
   "metadata": {},
   "source": [
    "### Improving MSE value using Random forest, Gradient Boost and XGB Regressor"
   ]
  },
  {
   "cell_type": "code",
   "execution_count": 195,
   "id": "d8225445",
   "metadata": {},
   "outputs": [
    {
     "name": "stdout",
     "output_type": "stream",
     "text": [
      "Model: Random Forest\n",
      "  Group 0: MSE: 87760912.20653531, R2: 0.9936455584156629, MAPE: 0.013272133120136798\n",
      "  Group 1: MSE: 132180.355065694, R2: 0.999909481200919, MAPE: 0.000884781190770835\n",
      "  Group 2: MSE: 1042358.5315331412, R2: 0.9996494874321803, MAPE: 0.0009827307919162206\n",
      "Average MSE for Random Forest: 29645150.364378046\n",
      "\n",
      "Model: Gradient Boosting\n",
      "  Group 0: MSE: 1386.2393882185256, R2: 0.9999998996275563, MAPE: 6.428856385624887e-05\n",
      "  Group 1: MSE: 6199.755609708676, R2: 0.9999957543280005, MAPE: 0.0003773977773399077\n",
      "  Group 2: MSE: 22056.68011424603, R2: 0.9999925830284393, MAPE: 0.0004989552621241099\n",
      "Average MSE for Gradient Boosting: 9880.891704057745\n",
      "\n",
      "Model: XGBRegressor\n",
      "  Group 0: MSE: 71111.72274464574, R2: 0.9999948510643659, MAPE: 0.00025829758639394045\n",
      "  Group 1: MSE: 138093.83341727272, R2: 0.9999054315752502, MAPE: 0.0016746796673866942\n",
      "  Group 2: MSE: 36131.50983646277, R2: 0.9999878501034828, MAPE: 0.0006358826746792291\n",
      "Average MSE for XGBRegressor: 81779.0219994604\n",
      "\n",
      "The best-performing model overall is Gradient Boosting with an average MSE of 9880.891704057745.\n"
     ]
    }
   ],
   "source": [
    "import numpy as np\n",
    "from sklearn.model_selection import GridSearchCV\n",
    "from sklearn.ensemble import RandomForestRegressor, GradientBoostingRegressor\n",
    "from xgboost import XGBRegressor\n",
    "from sklearn.metrics import mean_squared_error, r2_score, mean_absolute_percentage_error\n",
    "\n",
    "# Function to find the best model using GridSearchCV\n",
    "def find_best_model(X, y, model, param_grid):\n",
    "    grid_search = GridSearchCV(model, param_grid, cv=5, scoring='neg_mean_squared_error')\n",
    "    grid_search.fit(X, y)\n",
    "    return grid_search.best_estimator_, -grid_search.best_score_\n",
    "\n",
    "# parameter grids for each model\n",
    "param_grids = {\n",
    "    \"Random Forest\": {'n_estimators': [100, 200], 'max_depth': [10, 20]},\n",
    "    \"Gradient Boosting\": {'n_estimators': [100, 200], 'learning_rate': [0.05, 0.1]},\n",
    "    \"XGBRegressor\": {'n_estimators': [100, 200], 'max_depth': [3, 5], 'learning_rate': [0.05, 0.1]}\n",
    "}\n",
    "\n",
    "# Initialize dictionary to store performance metrics for each model\n",
    "model_performance = {model_name: [] for model_name in param_grids}\n",
    "\n",
    "# Train and validate models for each subgroup\n",
    "for model_name, model_params in param_grids.items():\n",
    "    for group in range(k):\n",
    "        group_data = train_processed[train_subgroups == group]\n",
    "        group_target = train_data['SalePrice'][train_subgroups == group]\n",
    "\n",
    "        model = {\n",
    "            'Random Forest': RandomForestRegressor(),\n",
    "            'Gradient Boosting': GradientBoostingRegressor(),\n",
    "            'XGBRegressor': XGBRegressor()\n",
    "        }[model_name]\n",
    "        model, _ = find_best_model(group_data, group_target, model, model_params)\n",
    "\n",
    "        predicted = model.predict(group_data)\n",
    "        mse = mean_squared_error(group_target, predicted)\n",
    "        r2 = r2_score(group_target, predicted)\n",
    "        mape = mean_absolute_percentage_error(group_target, predicted)\n",
    "\n",
    "        model_performance[model_name].append((group, mse, r2, mape))\n",
    "\n",
    "# performance for each model\n",
    "for model_name, performance in model_performance.items():\n",
    "    print(f\"Model: {model_name}\")\n",
    "    for group, mse, r2, mape in performance:\n",
    "        print(f\"  Group {group}: MSE: {mse}, R2: {r2}, MAPE: {mape}\")\n",
    "    avg_mse = np.mean([mse for _, mse, _, _ in performance])\n",
    "    print(f\"Average MSE for {model_name}: {avg_mse}\\n\")\n",
    "\n",
    "# best-performing model\n",
    "best_avg_mse = min([np.mean([mse for _, mse, _, _ in performance]) for performance in model_performance.values()])\n",
    "best_model_name = [model_name for model_name, performance in model_performance.items() \n",
    "                   if np.mean([mse for _, mse, _, _ in performance]) == best_avg_mse][0]\n",
    "\n",
    "print(f\"The best-performing model overall is {best_model_name} with an average MSE of {best_avg_mse}.\")\n"
   ]
  },
  {
   "cell_type": "markdown",
   "id": "9d5c37de",
   "metadata": {},
   "source": [
    "### The best performed algorithm is Gradent Boost Algorithm with MSE value for the model is 9881, with 99% accuracy. "
   ]
  },
  {
   "cell_type": "markdown",
   "id": "6176963c",
   "metadata": {},
   "source": [
    "#### The project is done by sameer shaik, Sri Ram Degala, Ganesh chitlapally #Project Team 7"
   ]
  },
  {
   "cell_type": "code",
   "execution_count": null,
   "id": "cd44ed14",
   "metadata": {},
   "outputs": [],
   "source": []
  }
 ],
 "metadata": {
  "kernelspec": {
   "display_name": "Python 3 (ipykernel)",
   "language": "python",
   "name": "python3"
  },
  "language_info": {
   "codemirror_mode": {
    "name": "ipython",
    "version": 3
   },
   "file_extension": ".py",
   "mimetype": "text/x-python",
   "name": "python",
   "nbconvert_exporter": "python",
   "pygments_lexer": "ipython3",
   "version": "3.11.5"
  }
 },
 "nbformat": 4,
 "nbformat_minor": 5
}
